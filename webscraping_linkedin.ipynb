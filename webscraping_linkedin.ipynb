{
 "cells": [
  {
   "cell_type": "code",
   "execution_count": 1,
   "id": "8fe894a3-137f-4496-ab32-ce04b4543176",
   "metadata": {},
   "outputs": [],
   "source": [
    "# importando as bibliotecas\n",
    "# selenium 4\n",
    "from selenium import webdriver\n",
    "from selenium.webdriver.chrome.service import Service\n",
    "from selenium.webdriver.common.keys import Keys\n",
    "from webdriver_manager.chrome import ChromeDriverManager\n",
    "from selenium.webdriver.common.by import By\n",
    "import pandas as pd\n",
    "from time import sleep"
   ]
  },
  {
   "cell_type": "code",
   "execution_count": 2,
   "id": "c52ea8c0-c497-411a-8134-1925a8afce80",
   "metadata": {},
   "outputs": [
    {
     "name": "stdout",
     "output_type": "stream",
     "text": [
      "\n"
     ]
    },
    {
     "name": "stderr",
     "output_type": "stream",
     "text": [
      "[WDM] - ====== WebDriver manager ======\n"
     ]
    },
    {
     "name": "stdout",
     "output_type": "stream",
     "text": [
      "2022-07-05 17:43:45,286 INFO ====== WebDriver manager ======\n"
     ]
    },
    {
     "name": "stderr",
     "output_type": "stream",
     "text": [
      "[WDM] - Current google-chrome version is 102.0.5005\n"
     ]
    },
    {
     "name": "stdout",
     "output_type": "stream",
     "text": [
      "2022-07-05 17:43:45,293 INFO Current google-chrome version is 102.0.5005\n"
     ]
    },
    {
     "name": "stderr",
     "output_type": "stream",
     "text": [
      "[WDM] - Get LATEST chromedriver version for 102.0.5005 google-chrome\n"
     ]
    },
    {
     "name": "stdout",
     "output_type": "stream",
     "text": [
      "2022-07-05 17:43:45,297 INFO Get LATEST chromedriver version for 102.0.5005 google-chrome\n"
     ]
    },
    {
     "name": "stderr",
     "output_type": "stream",
     "text": [
      "[WDM] - There is no [win32] chromedriver for browser 102.0.5005 in cache\n"
     ]
    },
    {
     "name": "stdout",
     "output_type": "stream",
     "text": [
      "2022-07-05 17:43:45,805 INFO There is no [win32] chromedriver for browser 102.0.5005 in cache\n"
     ]
    },
    {
     "name": "stderr",
     "output_type": "stream",
     "text": [
      "[WDM] - About to download new driver from https://chromedriver.storage.googleapis.com/102.0.5005.61/chromedriver_win32.zip\n"
     ]
    },
    {
     "name": "stdout",
     "output_type": "stream",
     "text": [
      "2022-07-05 17:43:45,813 INFO About to download new driver from https://chromedriver.storage.googleapis.com/102.0.5005.61/chromedriver_win32.zip\n"
     ]
    },
    {
     "name": "stderr",
     "output_type": "stream",
     "text": [
      "[WDM] - Driver has been saved in cache [C:\\Users\\regin\\.wdm\\drivers\\chromedriver\\win32\\102.0.5005.61]\n"
     ]
    },
    {
     "name": "stdout",
     "output_type": "stream",
     "text": [
      "2022-07-05 17:43:48,804 INFO Driver has been saved in cache [C:\\Users\\regin\\.wdm\\drivers\\chromedriver\\win32\\102.0.5005.61]\n"
     ]
    }
   ],
   "source": [
    "driver = webdriver.Chrome(service=Service(ChromeDriverManager().install()))"
   ]
  },
  {
   "cell_type": "markdown",
   "id": "bf946a36-d6dd-427e-af52-2790e26aa128",
   "metadata": {},
   "source": [
    "# Webdriver Manager\n",
    "https://pypi.org/project/webdriver-manager/#use-with-chrome\n",
    "\n",
    "# Doc Selenium\n",
    "https://selenium-python.readthedocs.io/"
   ]
  },
  {
   "cell_type": "code",
   "execution_count": 3,
   "id": "0afd52c8-d0c3-4cfa-8601-59f20cf2597d",
   "metadata": {},
   "outputs": [],
   "source": [
    "driver.get(\"https://www.linkedin.com/\")"
   ]
  },
  {
   "cell_type": "code",
   "execution_count": 4,
   "id": "fc9aab42-8d5d-4c3a-ab5b-28e7cf50a2cf",
   "metadata": {},
   "outputs": [],
   "source": [
    "# Localizando o botão de jobs\n",
    "jobs_botao = driver.find_element(By.XPATH, \"/html/body/nav/ul/li[4]/a\")\n",
    "jobs_botao.click()"
   ]
  },
  {
   "cell_type": "code",
   "execution_count": 5,
   "id": "c8468a6f-0cc5-4883-ad76-906533c9fbe1",
   "metadata": {},
   "outputs": [],
   "source": [
    "job_title = driver.find_element(By.XPATH, \"/html/body/div[1]/header/nav/section/section[2]/form/section[1]/input\")\n",
    "job_title.click()"
   ]
  },
  {
   "cell_type": "code",
   "execution_count": 6,
   "id": "e8ad8daf-e7e6-48be-ac5a-5600e2d85cdc",
   "metadata": {},
   "outputs": [],
   "source": [
    "job_title.send_keys(\"Cientista de dados\")"
   ]
  },
  {
   "cell_type": "code",
   "execution_count": 7,
   "id": "a12d413a-a06a-44ba-8204-913632a57e46",
   "metadata": {},
   "outputs": [],
   "source": [
    "job_location = driver.find_element(By.XPATH, \"/html/body/div[1]/header/nav/section/section[2]/form/section[2]/input\")\n",
    "job_location.click()"
   ]
  },
  {
   "cell_type": "code",
   "execution_count": 8,
   "id": "17965ef9-d5dc-4e8b-9791-03d161cbe30c",
   "metadata": {},
   "outputs": [],
   "source": [
    "job_location.clear()"
   ]
  },
  {
   "cell_type": "code",
   "execution_count": 9,
   "id": "1bcb5b35-b7dd-4bfa-aed7-138311e60ded",
   "metadata": {},
   "outputs": [],
   "source": [
    "job_location.send_keys(\"Rio de Janeiro\")"
   ]
  },
  {
   "cell_type": "code",
   "execution_count": 10,
   "id": "7cd265d1-eee8-4d5e-a984-bab21b64b214",
   "metadata": {},
   "outputs": [],
   "source": [
    "job_location.send_keys(Keys.ARROW_DOWN)"
   ]
  },
  {
   "cell_type": "code",
   "execution_count": 11,
   "id": "469bd2d9-dba5-463c-b158-21f545a041d5",
   "metadata": {},
   "outputs": [],
   "source": [
    "job_location.send_keys(Keys.RETURN)"
   ]
  },
  {
   "cell_type": "code",
   "execution_count": 12,
   "id": "8cb7690e-5124-4502-8dfd-2ac835467418",
   "metadata": {},
   "outputs": [],
   "source": [
    "job_cards = driver.find_elements(By.CLASS_NAME, 'base-card')"
   ]
  },
  {
   "cell_type": "code",
   "execution_count": 13,
   "id": "5a704fda-9864-4de1-8270-e465b735d675",
   "metadata": {},
   "outputs": [],
   "source": [
    "jobs_texts = [job.text for job in job_cards]"
   ]
  },
  {
   "cell_type": "code",
   "execution_count": 14,
   "id": "3821eb79-0666-406f-b06b-1c81a561565f",
   "metadata": {},
   "outputs": [
    {
     "data": {
      "text/plain": [
       "['Cientista de dados\\nCientista de dados\\nSenac Brasil\\nRio de Janeiro, RJ\\nSeja um dos primeiros a se candidatar\\nHá 2 horas Candidate-se agora',\n",
       " 'Cientista de Dados - Gerente\\nCientista de Dados - Gerente\\nEY\\nRio de Janeiro, RJ\\nSeja um dos primeiros a se candidatar\\nHá 27 minutos',\n",
       " 'Cientista de Dados - Gerente\\nCientista de Dados - Gerente\\nEY\\nRio de Janeiro, RJ\\nSeja um dos primeiros a se candidatar\\nHá 27 minutos',\n",
       " 'Analista de Data Insights Sênior (Cientista de Dados) – Indicadores de Vendas\\nAnalista de Data Insights Sênior (Cientista de Dados) – Indicadores de Vendas\\nGlobo\\nRio de Janeiro, RJ\\nContratando agora\\nHá 6 dias',\n",
       " 'Pessoa Cientista Criativo | Estágio\\nPessoa Cientista Criativo | Estágio\\nWinnin\\nRio de Janeiro, RJ\\nHá 1 semana',\n",
       " 'Cientista de Dados SR - Engenheiro (a) de Dados\\nCientista de Dados SR - Engenheiro (a) de Dados\\nVibra Energia\\nRio de Janeiro, RJ\\nSeja um dos primeiros a se candidatar\\nHá 1 semana',\n",
       " 'Banco de Talentos - BrisaTech | Deixe seu currículo aqui!\\nBanco de Talentos - BrisaTech | Deixe seu currículo aqui!\\nBrisanet Telecomunicações\\nMesquita, RJ\\nSeja um dos primeiros a se candidatar\\nHá 3 semanas',\n",
       " 'Cientista de Dados JR\\nCientista de Dados JR\\nVibra Energia\\nRio de Janeiro, RJ\\nContratando agora\\nHá 2 meses',\n",
       " 'GRUPO SOMA | Cientista de Dados Junior | People Analytics\\nGRUPO SOMA | Cientista de Dados Junior | People Analytics\\nGrupo SOMA\\nRio de Janeiro, RJ\\nContratando agora\\nHá 3 semanas',\n",
       " 'Cientista de Dados\\nCientista de Dados\\ninnolevels\\nRio de Janeiro, RJ\\nContratando agora\\nHá 1 mês',\n",
       " 'CIENTISTA DE DADOS\\nCIENTISTA DE DADOS\\nCasa & Video\\nRio de Janeiro, RJ\\nContratando agora\\nHá 1 mês',\n",
       " 'Banco de Talentos - Cientista de Dados\\nBanco de Talentos - Cientista de Dados\\nPlannera\\nRio de Janeiro, RJ\\nSeja um dos primeiros a se candidatar\\nHá 1 mês',\n",
       " 'Cientista de Dados III | Produtos e Serviços Digitais\\nCientista de Dados III | Produtos e Serviços Digitais\\nGlobo\\nRio de Janeiro, RJ\\nContratando agora\\nHá 2 semanas',\n",
       " 'CIENTISTA DE DADOS\\nTECNET IT SERVICES\\nRio de Janeiro, RJ\\nSeja um dos primeiros a se candidatar\\nHá 1 semana',\n",
       " 'Cientista de Dados | Tecnologia para Produtos Digitais\\nCientista de Dados | Tecnologia para Produtos Digitais\\nGlobo\\nRio de Janeiro, RJ\\nContratando agora\\nHá 1 semana',\n",
       " 'Banco de Talentos | Analytics\\nBanco de Talentos | Analytics\\nBridge & Co.\\nRio de Janeiro, RJ\\nHá 4 dias',\n",
       " 'Cientista de Dados - Del Castilho/RJ\\nCientista de Dados - Del Castilho/RJ\\nWhite Martins\\nRio de Janeiro, RJ\\nSeja um dos primeiros a se candidatar\\nHá 3 semanas',\n",
       " 'Cientista de Dados\\nCientista de Dados\\nyellow.rec\\nRio de Janeiro, RJ\\nHá 7 meses',\n",
       " 'Gerente de Data Science\\nGerente de Data Science\\nOLX Brasil\\nRio de Janeiro, RJ\\nContratando agora\\nHá 2 semanas',\n",
       " 'Fullstack Engineer\\nFullstack Engineer\\nDescomplica\\nRio de Janeiro, RJ\\nSeja um dos primeiros a se candidatar\\nHá 3 semanas',\n",
       " 'Cientista/Analista de Dados - Senior\\nCientista/Analista de Dados - Senior\\nIBM\\nRio de Janeiro, RJ\\nSeja um dos primeiros a se candidatar\\nHá 5 dias',\n",
       " 'Especialista Técnico do Cliente\\nEspecialista Técnico do Cliente\\nIBM\\nRio de Janeiro, RJ\\nSeja um dos primeiros a se candidatar\\nHá 3 dias',\n",
       " 'Pesquisador de dados - Senior\\nPesquisador de dados - Senior\\nIBM\\nRio de Janeiro, RJ\\nSeja um dos primeiros a se candidatar\\nHá 3 dias',\n",
       " 'Senior Fullstack Engineer\\nSenior Fullstack Engineer\\nDescomplica\\nRio de Janeiro, RJ\\nSeja um dos primeiros a se candidatar\\nHá 3 semanas',\n",
       " 'Programa de Estágio Associates\\nPrograma de Estágio Associates\\nIBM\\nRio de Janeiro, RJ\\nContratando agora\\nHá 4 dias']"
      ]
     },
     "execution_count": 14,
     "metadata": {},
     "output_type": "execute_result"
    }
   ],
   "source": [
    "jobs_texts"
   ]
  },
  {
   "cell_type": "code",
   "execution_count": 16,
   "id": "591bf6d6-c0e5-48c4-9217-c778af036287",
   "metadata": {},
   "outputs": [],
   "source": [
    "job_cards[3].click()"
   ]
  },
  {
   "cell_type": "code",
   "execution_count": 18,
   "id": "a3ef74fa-905f-4d97-8256-49c5f51b1a71",
   "metadata": {},
   "outputs": [
    {
     "data": {
      "text/plain": [
       "25"
      ]
     },
     "execution_count": 18,
     "metadata": {},
     "output_type": "execute_result"
    }
   ],
   "source": [
    "len(job_cards)"
   ]
  },
  {
   "cell_type": "code",
   "execution_count": 19,
   "id": "7e7a2166-17e5-4262-b6e8-f3914c3e447f",
   "metadata": {},
   "outputs": [],
   "source": [
    "# Colocando tudo em um local só\n",
    "table = pd.DataFrame(columns=[\"Company\",\"Job_Description\",\"Level\"]) # Criando o Dataframde"
   ]
  },
  {
   "cell_type": "code",
   "execution_count": 20,
   "id": "ce865d09-e2f5-42d0-b2cc-cba985dc9fa3",
   "metadata": {},
   "outputs": [
    {
     "name": "stderr",
     "output_type": "stream",
     "text": [
      "C:\\Users\\regin\\AppData\\Local\\Temp\\ipykernel_4944\\584794005.py:15: FutureWarning: The frame.append method is deprecated and will be removed from pandas in a future version. Use pandas.concat instead.\n",
      "  table = table.append({\"Company\": company,\"Job_Description\":job_description,\n",
      "C:\\Users\\regin\\AppData\\Local\\Temp\\ipykernel_4944\\584794005.py:15: FutureWarning: The frame.append method is deprecated and will be removed from pandas in a future version. Use pandas.concat instead.\n",
      "  table = table.append({\"Company\": company,\"Job_Description\":job_description,\n",
      "C:\\Users\\regin\\AppData\\Local\\Temp\\ipykernel_4944\\584794005.py:15: FutureWarning: The frame.append method is deprecated and will be removed from pandas in a future version. Use pandas.concat instead.\n",
      "  table = table.append({\"Company\": company,\"Job_Description\":job_description,\n",
      "C:\\Users\\regin\\AppData\\Local\\Temp\\ipykernel_4944\\584794005.py:15: FutureWarning: The frame.append method is deprecated and will be removed from pandas in a future version. Use pandas.concat instead.\n",
      "  table = table.append({\"Company\": company,\"Job_Description\":job_description,\n",
      "C:\\Users\\regin\\AppData\\Local\\Temp\\ipykernel_4944\\584794005.py:15: FutureWarning: The frame.append method is deprecated and will be removed from pandas in a future version. Use pandas.concat instead.\n",
      "  table = table.append({\"Company\": company,\"Job_Description\":job_description,\n",
      "C:\\Users\\regin\\AppData\\Local\\Temp\\ipykernel_4944\\584794005.py:15: FutureWarning: The frame.append method is deprecated and will be removed from pandas in a future version. Use pandas.concat instead.\n",
      "  table = table.append({\"Company\": company,\"Job_Description\":job_description,\n",
      "C:\\Users\\regin\\AppData\\Local\\Temp\\ipykernel_4944\\584794005.py:15: FutureWarning: The frame.append method is deprecated and will be removed from pandas in a future version. Use pandas.concat instead.\n",
      "  table = table.append({\"Company\": company,\"Job_Description\":job_description,\n",
      "C:\\Users\\regin\\AppData\\Local\\Temp\\ipykernel_4944\\584794005.py:15: FutureWarning: The frame.append method is deprecated and will be removed from pandas in a future version. Use pandas.concat instead.\n",
      "  table = table.append({\"Company\": company,\"Job_Description\":job_description,\n",
      "C:\\Users\\regin\\AppData\\Local\\Temp\\ipykernel_4944\\584794005.py:15: FutureWarning: The frame.append method is deprecated and will be removed from pandas in a future version. Use pandas.concat instead.\n",
      "  table = table.append({\"Company\": company,\"Job_Description\":job_description,\n",
      "C:\\Users\\regin\\AppData\\Local\\Temp\\ipykernel_4944\\584794005.py:15: FutureWarning: The frame.append method is deprecated and will be removed from pandas in a future version. Use pandas.concat instead.\n",
      "  table = table.append({\"Company\": company,\"Job_Description\":job_description,\n",
      "C:\\Users\\regin\\AppData\\Local\\Temp\\ipykernel_4944\\584794005.py:15: FutureWarning: The frame.append method is deprecated and will be removed from pandas in a future version. Use pandas.concat instead.\n",
      "  table = table.append({\"Company\": company,\"Job_Description\":job_description,\n",
      "C:\\Users\\regin\\AppData\\Local\\Temp\\ipykernel_4944\\584794005.py:15: FutureWarning: The frame.append method is deprecated and will be removed from pandas in a future version. Use pandas.concat instead.\n",
      "  table = table.append({\"Company\": company,\"Job_Description\":job_description,\n",
      "C:\\Users\\regin\\AppData\\Local\\Temp\\ipykernel_4944\\584794005.py:15: FutureWarning: The frame.append method is deprecated and will be removed from pandas in a future version. Use pandas.concat instead.\n",
      "  table = table.append({\"Company\": company,\"Job_Description\":job_description,\n",
      "C:\\Users\\regin\\AppData\\Local\\Temp\\ipykernel_4944\\584794005.py:15: FutureWarning: The frame.append method is deprecated and will be removed from pandas in a future version. Use pandas.concat instead.\n",
      "  table = table.append({\"Company\": company,\"Job_Description\":job_description,\n",
      "C:\\Users\\regin\\AppData\\Local\\Temp\\ipykernel_4944\\584794005.py:15: FutureWarning: The frame.append method is deprecated and will be removed from pandas in a future version. Use pandas.concat instead.\n",
      "  table = table.append({\"Company\": company,\"Job_Description\":job_description,\n",
      "C:\\Users\\regin\\AppData\\Local\\Temp\\ipykernel_4944\\584794005.py:15: FutureWarning: The frame.append method is deprecated and will be removed from pandas in a future version. Use pandas.concat instead.\n",
      "  table = table.append({\"Company\": company,\"Job_Description\":job_description,\n",
      "C:\\Users\\regin\\AppData\\Local\\Temp\\ipykernel_4944\\584794005.py:15: FutureWarning: The frame.append method is deprecated and will be removed from pandas in a future version. Use pandas.concat instead.\n",
      "  table = table.append({\"Company\": company,\"Job_Description\":job_description,\n",
      "C:\\Users\\regin\\AppData\\Local\\Temp\\ipykernel_4944\\584794005.py:15: FutureWarning: The frame.append method is deprecated and will be removed from pandas in a future version. Use pandas.concat instead.\n",
      "  table = table.append({\"Company\": company,\"Job_Description\":job_description,\n",
      "C:\\Users\\regin\\AppData\\Local\\Temp\\ipykernel_4944\\584794005.py:15: FutureWarning: The frame.append method is deprecated and will be removed from pandas in a future version. Use pandas.concat instead.\n",
      "  table = table.append({\"Company\": company,\"Job_Description\":job_description,\n",
      "C:\\Users\\regin\\AppData\\Local\\Temp\\ipykernel_4944\\584794005.py:15: FutureWarning: The frame.append method is deprecated and will be removed from pandas in a future version. Use pandas.concat instead.\n",
      "  table = table.append({\"Company\": company,\"Job_Description\":job_description,\n",
      "C:\\Users\\regin\\AppData\\Local\\Temp\\ipykernel_4944\\584794005.py:15: FutureWarning: The frame.append method is deprecated and will be removed from pandas in a future version. Use pandas.concat instead.\n",
      "  table = table.append({\"Company\": company,\"Job_Description\":job_description,\n",
      "C:\\Users\\regin\\AppData\\Local\\Temp\\ipykernel_4944\\584794005.py:15: FutureWarning: The frame.append method is deprecated and will be removed from pandas in a future version. Use pandas.concat instead.\n",
      "  table = table.append({\"Company\": company,\"Job_Description\":job_description,\n",
      "C:\\Users\\regin\\AppData\\Local\\Temp\\ipykernel_4944\\584794005.py:15: FutureWarning: The frame.append method is deprecated and will be removed from pandas in a future version. Use pandas.concat instead.\n",
      "  table = table.append({\"Company\": company,\"Job_Description\":job_description,\n",
      "C:\\Users\\regin\\AppData\\Local\\Temp\\ipykernel_4944\\584794005.py:15: FutureWarning: The frame.append method is deprecated and will be removed from pandas in a future version. Use pandas.concat instead.\n",
      "  table = table.append({\"Company\": company,\"Job_Description\":job_description,\n",
      "C:\\Users\\regin\\AppData\\Local\\Temp\\ipykernel_4944\\584794005.py:15: FutureWarning: The frame.append method is deprecated and will be removed from pandas in a future version. Use pandas.concat instead.\n",
      "  table = table.append({\"Company\": company,\"Job_Description\":job_description,\n"
     ]
    }
   ],
   "source": [
    "for job in range(len(job_cards)):\n",
    "    job_cards[job].click()\n",
    "    sleep(2)\n",
    "    job_description = driver.find_element(By.CLASS_NAME, \"show-more-less-html__markup\").text\n",
    "    sleep(1)\n",
    "    job_level = driver.find_element(By.CLASS_NAME, \n",
    "                                    \"description__job-criteria-text.description__job-criteria-text--criteria\").text\n",
    "    sleep(2)\n",
    "    try:\n",
    "        company = driver.find_element(By.CLASS_NAME, \"topcard__org-name-link.topcard__flavor--black-link\").text\n",
    "    except:\n",
    "        company = driver.find_element(By.CLASS_NAME, \"topcard__flavor\").text\n",
    "    \n",
    "    lista = [company,job_description,job_level]\n",
    "    table = table.append({\"Company\": company,\"Job_Description\":job_description,\n",
    "                    \"Level\":job_level}, ignore_index=True)"
   ]
  },
  {
   "cell_type": "code",
   "execution_count": 22,
   "id": "c29825a4-2e0d-45af-8e09-94e8521eafc9",
   "metadata": {},
   "outputs": [],
   "source": [
    "driver.close()"
   ]
  },
  {
   "cell_type": "code",
   "execution_count": 21,
   "id": "42d52182-a9f6-4977-b6db-0bdbb4745661",
   "metadata": {},
   "outputs": [
    {
     "data": {
      "text/html": [
       "<div>\n",
       "<style scoped>\n",
       "    .dataframe tbody tr th:only-of-type {\n",
       "        vertical-align: middle;\n",
       "    }\n",
       "\n",
       "    .dataframe tbody tr th {\n",
       "        vertical-align: top;\n",
       "    }\n",
       "\n",
       "    .dataframe thead th {\n",
       "        text-align: right;\n",
       "    }\n",
       "</style>\n",
       "<table border=\"1\" class=\"dataframe\">\n",
       "  <thead>\n",
       "    <tr style=\"text-align: right;\">\n",
       "      <th></th>\n",
       "      <th>Company</th>\n",
       "      <th>Job_Description</th>\n",
       "      <th>Level</th>\n",
       "    </tr>\n",
       "  </thead>\n",
       "  <tbody>\n",
       "    <tr>\n",
       "      <th>0</th>\n",
       "      <td>Senac Brasil</td>\n",
       "      <td>Cargo: Assessor Técnico II (Escuta de Mercado)...</td>\n",
       "      <td>Pleno-sênior</td>\n",
       "    </tr>\n",
       "    <tr>\n",
       "      <th>1</th>\n",
       "      <td>EY</td>\n",
       "      <td>Na EY, você terá a chance de construir uma car...</td>\n",
       "      <td>Pleno-sênior</td>\n",
       "    </tr>\n",
       "    <tr>\n",
       "      <th>2</th>\n",
       "      <td>EY</td>\n",
       "      <td>Na EY, você terá a chance de construir uma car...</td>\n",
       "      <td>Pleno-sênior</td>\n",
       "    </tr>\n",
       "    <tr>\n",
       "      <th>3</th>\n",
       "      <td>Globo</td>\n",
       "      <td>Job Description\\n\\nBuscamos o novo e o diferen...</td>\n",
       "      <td>Júnior</td>\n",
       "    </tr>\n",
       "    <tr>\n",
       "      <th>4</th>\n",
       "      <td>Winnin</td>\n",
       "      <td>DIA A DIA\\nColaborar com a execução de reports...</td>\n",
       "      <td>Estágio</td>\n",
       "    </tr>\n",
       "    <tr>\n",
       "      <th>5</th>\n",
       "      <td>Vibra Energia</td>\n",
       "      <td>Buscamos profissional para atuar como Engenhei...</td>\n",
       "      <td>Não aplicável</td>\n",
       "    </tr>\n",
       "    <tr>\n",
       "      <th>6</th>\n",
       "      <td>Brisanet Telecomunicações</td>\n",
       "      <td>A área de Desenvolvimento é responsável por to...</td>\n",
       "      <td>Não aplicável</td>\n",
       "    </tr>\n",
       "    <tr>\n",
       "      <th>7</th>\n",
       "      <td>Vibra Energia</td>\n",
       "      <td>Buscamos para nosso time um Cientista de Dados...</td>\n",
       "      <td>Não aplicável</td>\n",
       "    </tr>\n",
       "    <tr>\n",
       "      <th>8</th>\n",
       "      <td>Grupo SOMA</td>\n",
       "      <td>Job Description\\n\\nSomos um belo encontro de p...</td>\n",
       "      <td>Assistente</td>\n",
       "    </tr>\n",
       "    <tr>\n",
       "      <th>9</th>\n",
       "      <td>innolevels</td>\n",
       "      <td>Nivel de atuacao: Especialistas | Area de atua...</td>\n",
       "      <td>Assistente</td>\n",
       "    </tr>\n",
       "    <tr>\n",
       "      <th>10</th>\n",
       "      <td>Casa &amp; Video</td>\n",
       "      <td>Job Description\\n\\nQUE CASA É ESSA?\\n\\nA CASA&amp;...</td>\n",
       "      <td>Assistente</td>\n",
       "    </tr>\n",
       "    <tr>\n",
       "      <th>11</th>\n",
       "      <td>Plannera</td>\n",
       "      <td>Buscamos alguém organizado, atento a detalhes ...</td>\n",
       "      <td>Não aplicável</td>\n",
       "    </tr>\n",
       "    <tr>\n",
       "      <th>12</th>\n",
       "      <td>Globo</td>\n",
       "      <td>Job Description\\n\\nBuscamos o novo e o diferen...</td>\n",
       "      <td>Assistente</td>\n",
       "    </tr>\n",
       "    <tr>\n",
       "      <th>13</th>\n",
       "      <td>TECNET IT SERVICES</td>\n",
       "      <td>Área De Atuação\\n\\nInformática / TI / Tecnolog...</td>\n",
       "      <td>Assistente</td>\n",
       "    </tr>\n",
       "    <tr>\n",
       "      <th>14</th>\n",
       "      <td>Globo</td>\n",
       "      <td>Job Description\\n\\nO Hub Digital faz parte da ...</td>\n",
       "      <td>Assistente</td>\n",
       "    </tr>\n",
       "    <tr>\n",
       "      <th>15</th>\n",
       "      <td>Bridge &amp; Co.</td>\n",
       "      <td>Que tal fazer parte das nossas Squads de Analy...</td>\n",
       "      <td>Não aplicável</td>\n",
       "    </tr>\n",
       "    <tr>\n",
       "      <th>16</th>\n",
       "      <td>White Martins</td>\n",
       "      <td>FAÇA DO SEU TALENTO A SUA MARCA!\\n\\nGarantimos...</td>\n",
       "      <td>Não aplicável</td>\n",
       "    </tr>\n",
       "    <tr>\n",
       "      <th>17</th>\n",
       "      <td>yellow.rec</td>\n",
       "      <td>Nível: Analista\\n\\nCursos de: Administração de...</td>\n",
       "      <td>Pleno-sênior</td>\n",
       "    </tr>\n",
       "    <tr>\n",
       "      <th>18</th>\n",
       "      <td>OLX Brasil</td>\n",
       "      <td>Descrição da empresa\\n\\nOlá, somos a OLX Brasi...</td>\n",
       "      <td>Pleno-sênior</td>\n",
       "    </tr>\n",
       "    <tr>\n",
       "      <th>19</th>\n",
       "      <td>Descomplica</td>\n",
       "      <td>Quem é a Descomplica | Na Descomplica você vai...</td>\n",
       "      <td>Assistente</td>\n",
       "    </tr>\n",
       "    <tr>\n",
       "      <th>20</th>\n",
       "      <td>IBM</td>\n",
       "      <td>579719BR\\n\\nIntrodução\\n\\nNa IBM, o trabalho é...</td>\n",
       "      <td>Não aplicável</td>\n",
       "    </tr>\n",
       "    <tr>\n",
       "      <th>21</th>\n",
       "      <td>IBM</td>\n",
       "      <td>580411BR\\n\\nIntrodução\\n\\nEspecialistas técnic...</td>\n",
       "      <td>Não aplicável</td>\n",
       "    </tr>\n",
       "    <tr>\n",
       "      <th>22</th>\n",
       "      <td>IBM</td>\n",
       "      <td>581942BR\\n\\nIntrodução\\n\\nComo Cientista de da...</td>\n",
       "      <td>Não aplicável</td>\n",
       "    </tr>\n",
       "    <tr>\n",
       "      <th>23</th>\n",
       "      <td>Descomplica</td>\n",
       "      <td>Quem é a Descomplica | Na Descomplica você vai...</td>\n",
       "      <td>Júnior</td>\n",
       "    </tr>\n",
       "    <tr>\n",
       "      <th>24</th>\n",
       "      <td>IBM</td>\n",
       "      <td>487690BR\\n\\nIntrodução\\n\\nEstamos buscando pro...</td>\n",
       "      <td>Não aplicável</td>\n",
       "    </tr>\n",
       "  </tbody>\n",
       "</table>\n",
       "</div>"
      ],
      "text/plain": [
       "                      Company  \\\n",
       "0                Senac Brasil   \n",
       "1                          EY   \n",
       "2                          EY   \n",
       "3                       Globo   \n",
       "4                      Winnin   \n",
       "5               Vibra Energia   \n",
       "6   Brisanet Telecomunicações   \n",
       "7               Vibra Energia   \n",
       "8                  Grupo SOMA   \n",
       "9                  innolevels   \n",
       "10               Casa & Video   \n",
       "11                   Plannera   \n",
       "12                      Globo   \n",
       "13         TECNET IT SERVICES   \n",
       "14                      Globo   \n",
       "15               Bridge & Co.   \n",
       "16              White Martins   \n",
       "17                 yellow.rec   \n",
       "18                 OLX Brasil   \n",
       "19                Descomplica   \n",
       "20                        IBM   \n",
       "21                        IBM   \n",
       "22                        IBM   \n",
       "23                Descomplica   \n",
       "24                        IBM   \n",
       "\n",
       "                                      Job_Description          Level  \n",
       "0   Cargo: Assessor Técnico II (Escuta de Mercado)...   Pleno-sênior  \n",
       "1   Na EY, você terá a chance de construir uma car...   Pleno-sênior  \n",
       "2   Na EY, você terá a chance de construir uma car...   Pleno-sênior  \n",
       "3   Job Description\\n\\nBuscamos o novo e o diferen...         Júnior  \n",
       "4   DIA A DIA\\nColaborar com a execução de reports...        Estágio  \n",
       "5   Buscamos profissional para atuar como Engenhei...  Não aplicável  \n",
       "6   A área de Desenvolvimento é responsável por to...  Não aplicável  \n",
       "7   Buscamos para nosso time um Cientista de Dados...  Não aplicável  \n",
       "8   Job Description\\n\\nSomos um belo encontro de p...     Assistente  \n",
       "9   Nivel de atuacao: Especialistas | Area de atua...     Assistente  \n",
       "10  Job Description\\n\\nQUE CASA É ESSA?\\n\\nA CASA&...     Assistente  \n",
       "11  Buscamos alguém organizado, atento a detalhes ...  Não aplicável  \n",
       "12  Job Description\\n\\nBuscamos o novo e o diferen...     Assistente  \n",
       "13  Área De Atuação\\n\\nInformática / TI / Tecnolog...     Assistente  \n",
       "14  Job Description\\n\\nO Hub Digital faz parte da ...     Assistente  \n",
       "15  Que tal fazer parte das nossas Squads de Analy...  Não aplicável  \n",
       "16  FAÇA DO SEU TALENTO A SUA MARCA!\\n\\nGarantimos...  Não aplicável  \n",
       "17  Nível: Analista\\n\\nCursos de: Administração de...   Pleno-sênior  \n",
       "18  Descrição da empresa\\n\\nOlá, somos a OLX Brasi...   Pleno-sênior  \n",
       "19  Quem é a Descomplica | Na Descomplica você vai...     Assistente  \n",
       "20  579719BR\\n\\nIntrodução\\n\\nNa IBM, o trabalho é...  Não aplicável  \n",
       "21  580411BR\\n\\nIntrodução\\n\\nEspecialistas técnic...  Não aplicável  \n",
       "22  581942BR\\n\\nIntrodução\\n\\nComo Cientista de da...  Não aplicável  \n",
       "23  Quem é a Descomplica | Na Descomplica você vai...         Júnior  \n",
       "24  487690BR\\n\\nIntrodução\\n\\nEstamos buscando pro...  Não aplicável  "
      ]
     },
     "execution_count": 21,
     "metadata": {},
     "output_type": "execute_result"
    }
   ],
   "source": [
    "table"
   ]
  },
  {
   "cell_type": "code",
   "execution_count": 23,
   "id": "6824b978-e910-4de2-bfdd-3cade3ffc555",
   "metadata": {},
   "outputs": [],
   "source": [
    "table.to_csv(\"jobs_RJ.csv\",index=False)"
   ]
  },
  {
   "cell_type": "code",
   "execution_count": null,
   "id": "0da3d698-a24b-42c9-85d9-2f37c0d18225",
   "metadata": {},
   "outputs": [],
   "source": []
  }
 ],
 "metadata": {
  "kernelspec": {
   "display_name": "Python 3 (ipykernel)",
   "language": "python",
   "name": "python3"
  },
  "language_info": {
   "codemirror_mode": {
    "name": "ipython",
    "version": 3
   },
   "file_extension": ".py",
   "mimetype": "text/x-python",
   "name": "python",
   "nbconvert_exporter": "python",
   "pygments_lexer": "ipython3",
   "version": "3.9.13"
  }
 },
 "nbformat": 4,
 "nbformat_minor": 5
}
