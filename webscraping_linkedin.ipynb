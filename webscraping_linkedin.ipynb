{
 "cells": [
  {
   "cell_type": "code",
   "execution_count": 1,
   "id": "899b62d0-f820-4e7d-86f5-9543e7beb6cd",
   "metadata": {},
   "outputs": [],
   "source": [
    "# selenium 4\n",
    "# selenium 4\n",
    "from selenium import webdriver\n",
    "from selenium.webdriver.chrome.service import Service\n",
    "from selenium.webdriver.common.keys import Keys\n",
    "from webdriver_manager.chrome import ChromeDriverManager\n",
    "from selenium.webdriver.common.by import By\n",
    "import pandas as pd\n",
    "from time import sleep"
   ]
  },
  {
   "cell_type": "code",
   "execution_count": 2,
   "id": "08862534-8966-4b8b-bf6e-f7c8bb2965d8",
   "metadata": {},
   "outputs": [
    {
     "name": "stdout",
     "output_type": "stream",
     "text": [
      "\n"
     ]
    },
    {
     "name": "stderr",
     "output_type": "stream",
     "text": [
      "[WDM] - ====== WebDriver manager ======\n",
      "[WDM] - Current google-chrome version is 103.0.5060\n",
      "[WDM] - Get LATEST chromedriver version for 103.0.5060 google-chrome\n",
      "[WDM] - Driver [C:\\Users\\ffsantos\\.wdm\\drivers\\chromedriver\\win32\\103.0.5060.53\\chromedriver.exe] found in cache\n"
     ]
    }
   ],
   "source": [
    "driver = webdriver.Chrome(service=Service(ChromeDriverManager().install()))"
   ]
  },
  {
   "cell_type": "markdown",
   "id": "03726a25-8252-4cea-ad06-576badf996ce",
   "metadata": {},
   "source": [
    "### Webdriver manager\n",
    "\n",
    "https://pypi.org/project/webdriver-manager/#use-with-chrome\n",
    "\n",
    "### Doc Selenium\n",
    "\n",
    "https://selenium-python.readthedocs.io/"
   ]
  },
  {
   "cell_type": "code",
   "execution_count": 3,
   "id": "e6577a4d-fdfb-4e9d-81e5-ea1d50b29a40",
   "metadata": {},
   "outputs": [],
   "source": [
    "driver.get(\"https://www.linkedin.com/\")"
   ]
  },
  {
   "cell_type": "code",
   "execution_count": 4,
   "id": "91f50b1d-ddd5-4463-93d5-d0ae12f7f05a",
   "metadata": {},
   "outputs": [],
   "source": [
    "# Localizando o botão de jobs\n",
    "jobs_botao = driver.find_element(By.XPATH, \"/html/body/nav/ul/li[4]/a\")\n",
    "jobs_botao.click()"
   ]
  },
  {
   "cell_type": "code",
   "execution_count": 6,
   "id": "123b1faa-1ebe-4f84-8ef4-49c435711312",
   "metadata": {},
   "outputs": [],
   "source": [
    "job_title = driver.find_element(By.XPATH, \"/html/body/div[1]/header/nav/section/section[2]/form/section[1]/input\")\n",
    "job_title.click()"
   ]
  },
  {
   "cell_type": "code",
   "execution_count": 7,
   "id": "79473bf1-ef13-438a-9727-915516bbfdae",
   "metadata": {},
   "outputs": [],
   "source": [
    "job_title.send_keys(\"Cientista de dados\")"
   ]
  },
  {
   "cell_type": "code",
   "execution_count": 8,
   "id": "8b9302ec-ab9c-44e3-bc12-0c49bd8bca4d",
   "metadata": {},
   "outputs": [],
   "source": [
    "job_location = driver.find_element(By.XPATH, \"/html/body/div[1]/header/nav/section/section[2]/form/section[2]/input\")\n",
    "job_location.click()"
   ]
  },
  {
   "cell_type": "code",
   "execution_count": 9,
   "id": "d002affb-e7aa-4afd-8cc6-98bda5332bc0",
   "metadata": {},
   "outputs": [],
   "source": [
    "job_location.clear()"
   ]
  },
  {
   "cell_type": "code",
   "execution_count": 10,
   "id": "661ea47d-a7a9-40c2-8d62-c1f2cb129fbd",
   "metadata": {},
   "outputs": [],
   "source": [
    "job_location.send_keys(\"Rio de Janeiro\")"
   ]
  },
  {
   "cell_type": "code",
   "execution_count": 11,
   "id": "668d820a-946a-4f73-b071-873f67a2f0ee",
   "metadata": {},
   "outputs": [],
   "source": [
    "job_location.send_keys(Keys.ARROW_DOWN)"
   ]
  },
  {
   "cell_type": "code",
   "execution_count": 12,
   "id": "fc6a0c1f-6cb1-4fa4-ad94-25c16c4ffeb6",
   "metadata": {},
   "outputs": [],
   "source": [
    "job_location.send_keys(Keys.RETURN)"
   ]
  },
  {
   "cell_type": "code",
   "execution_count": 13,
   "id": "394527cc-1d1a-4d49-9124-17484788b8d6",
   "metadata": {},
   "outputs": [],
   "source": [
    "job_cards = driver.find_elements(By.CLASS_NAME, 'base-card')"
   ]
  },
  {
   "cell_type": "code",
   "execution_count": 14,
   "id": "1a7de188-47aa-48fc-81d8-5869ccb3707f",
   "metadata": {},
   "outputs": [
    {
     "data": {
      "text/plain": [
       "22"
      ]
     },
     "execution_count": 14,
     "metadata": {},
     "output_type": "execute_result"
    }
   ],
   "source": [
    "len(job_cards)"
   ]
  },
  {
   "cell_type": "code",
   "execution_count": 23,
   "id": "d4486f8d-3180-4bb0-80d2-f27ed7e7a33d",
   "metadata": {},
   "outputs": [
    {
     "data": {
      "text/plain": [
       "[<selenium.webdriver.remote.webelement.WebElement (session=\"b8b501465b1e849969d25dd5c4ea042f\", element=\"68da6476-c156-4843-a5ec-415c64f1ce5a\")>,\n",
       " <selenium.webdriver.remote.webelement.WebElement (session=\"b8b501465b1e849969d25dd5c4ea042f\", element=\"d14cf99a-13b8-44ea-b171-0e59c1ba0ac1\")>,\n",
       " <selenium.webdriver.remote.webelement.WebElement (session=\"b8b501465b1e849969d25dd5c4ea042f\", element=\"c531b560-f881-4d9d-817b-60b12a0c788b\")>,\n",
       " <selenium.webdriver.remote.webelement.WebElement (session=\"b8b501465b1e849969d25dd5c4ea042f\", element=\"e40c3d87-95f9-40e9-9060-f53fc8db4d54\")>,\n",
       " <selenium.webdriver.remote.webelement.WebElement (session=\"b8b501465b1e849969d25dd5c4ea042f\", element=\"71d3fd9b-d633-4632-825c-8697573cf4bb\")>,\n",
       " <selenium.webdriver.remote.webelement.WebElement (session=\"b8b501465b1e849969d25dd5c4ea042f\", element=\"05652294-bf48-4d2c-8d70-5d28cdc9b64d\")>,\n",
       " <selenium.webdriver.remote.webelement.WebElement (session=\"b8b501465b1e849969d25dd5c4ea042f\", element=\"7d18322d-da73-4858-b652-660f90986fdb\")>,\n",
       " <selenium.webdriver.remote.webelement.WebElement (session=\"b8b501465b1e849969d25dd5c4ea042f\", element=\"d83bb06d-9db1-49a3-87f9-202624d65dfd\")>,\n",
       " <selenium.webdriver.remote.webelement.WebElement (session=\"b8b501465b1e849969d25dd5c4ea042f\", element=\"d278bb77-f5ee-4460-85b2-4b060d583eba\")>,\n",
       " <selenium.webdriver.remote.webelement.WebElement (session=\"b8b501465b1e849969d25dd5c4ea042f\", element=\"12b6ebf0-e2a5-47e9-95d8-3a403be95b40\")>,\n",
       " <selenium.webdriver.remote.webelement.WebElement (session=\"b8b501465b1e849969d25dd5c4ea042f\", element=\"002ec264-3b36-4663-9806-285765330021\")>,\n",
       " <selenium.webdriver.remote.webelement.WebElement (session=\"b8b501465b1e849969d25dd5c4ea042f\", element=\"5993592a-c0da-4217-81a6-338638ec9692\")>,\n",
       " <selenium.webdriver.remote.webelement.WebElement (session=\"b8b501465b1e849969d25dd5c4ea042f\", element=\"c1349481-6b0c-4e33-b1d3-e9916f553ae7\")>,\n",
       " <selenium.webdriver.remote.webelement.WebElement (session=\"b8b501465b1e849969d25dd5c4ea042f\", element=\"3b421238-d1ae-4a94-9cd5-21c64a6f2d9b\")>,\n",
       " <selenium.webdriver.remote.webelement.WebElement (session=\"b8b501465b1e849969d25dd5c4ea042f\", element=\"0e4d28f2-c5e0-447e-84b6-0728e26c7bcc\")>,\n",
       " <selenium.webdriver.remote.webelement.WebElement (session=\"b8b501465b1e849969d25dd5c4ea042f\", element=\"8e16e812-1369-4c07-8669-a390b2fc6328\")>,\n",
       " <selenium.webdriver.remote.webelement.WebElement (session=\"b8b501465b1e849969d25dd5c4ea042f\", element=\"7479c512-5a47-457b-a77d-8e2de295cf5b\")>,\n",
       " <selenium.webdriver.remote.webelement.WebElement (session=\"b8b501465b1e849969d25dd5c4ea042f\", element=\"bcdd4d8c-80fa-49f5-b9fe-2060bc2f6a4c\")>,\n",
       " <selenium.webdriver.remote.webelement.WebElement (session=\"b8b501465b1e849969d25dd5c4ea042f\", element=\"d89c3c00-8b4d-4973-bb0a-9ee6cfed6669\")>,\n",
       " <selenium.webdriver.remote.webelement.WebElement (session=\"b8b501465b1e849969d25dd5c4ea042f\", element=\"1c5f67a3-a64a-4522-be9c-450427c82cf9\")>,\n",
       " <selenium.webdriver.remote.webelement.WebElement (session=\"b8b501465b1e849969d25dd5c4ea042f\", element=\"469eb647-e550-44d9-b492-5072dd5bd074\")>,\n",
       " <selenium.webdriver.remote.webelement.WebElement (session=\"b8b501465b1e849969d25dd5c4ea042f\", element=\"a3cf9441-6ac7-44e0-bf57-f66266915c9f\")>]"
      ]
     },
     "execution_count": 23,
     "metadata": {},
     "output_type": "execute_result"
    }
   ],
   "source": [
    "job_cards"
   ]
  },
  {
   "cell_type": "code",
   "execution_count": 15,
   "id": "124776d3-1836-4d42-b90c-1c6d56fe1b10",
   "metadata": {},
   "outputs": [
    {
     "name": "stdout",
     "output_type": "stream",
     "text": [
      "0\n",
      "1\n"
     ]
    },
    {
     "ename": "ElementClickInterceptedException",
     "evalue": "Message: element click intercepted: Element <div class=\"base-card relative w-full hover:no-underline focus:no-underline base-card--link base-search-card base-search-card--link job-search-card\" data-entity-urn=\"urn:li:jobPosting:3104982550\" data-search-id=\"Zu+aIx0FNxZT4sB7H+XdzQ==\" data-tracking-id=\"7NUepcssGdE1BdsVk8d6ug==\" data-column=\"1\" data-row=\"3\" data-visible-time=\"1657039375071\" data-largest-intersection-ratio=\"0.04568101093173027\">...</div> is not clickable at point (319, 462). Other element would receive the click: <div id=\"toasts\" class=\"toasts fixed z-8 babybear:right-4 mamabear:right-4 papabear:min-h-[96px]\n        top:auto bottom-4 left-4 papabear:w-[400px]\n        toasts--bottom\" type=\"bottom\">...</div>\n  (Session info: chrome=103.0.5060.66)\nStacktrace:\nBacktrace:\n\tOrdinal0 [0x00B26463+2188387]\n\tOrdinal0 [0x00ABE461+1762401]\n\tOrdinal0 [0x009D3D78+802168]\n\tOrdinal0 [0x00A07F9B+1015707]\n\tOrdinal0 [0x00A05F68+1007464]\n\tOrdinal0 [0x00A03C6B+998507]\n\tOrdinal0 [0x00A029D9+993753]\n\tOrdinal0 [0x009F8613+951827]\n\tOrdinal0 [0x00A1C7DC+1099740]\n\tOrdinal0 [0x009F7FF4+950260]\n\tOrdinal0 [0x00A1C9F4+1100276]\n\tOrdinal0 [0x00A2CC22+1166370]\n\tOrdinal0 [0x00A1C5F6+1099254]\n\tOrdinal0 [0x009F6BE0+945120]\n\tOrdinal0 [0x009F7AD6+948950]\n\tGetHandleVerifier [0x00DC71F2+2712546]\n\tGetHandleVerifier [0x00DB886D+2652765]\n\tGetHandleVerifier [0x00BB002A+520730]\n\tGetHandleVerifier [0x00BAEE06+516086]\n\tOrdinal0 [0x00AC468B+1787531]\n\tOrdinal0 [0x00AC8E88+1805960]\n\tOrdinal0 [0x00AC8F75+1806197]\n\tOrdinal0 [0x00AD1DF1+1842673]\n\tBaseThreadInitThunk [0x7535FA29+25]\n\tRtlGetAppContainerNamedObjectPath [0x77127A9E+286]\n\tRtlGetAppContainerNamedObjectPath [0x77127A6E+238]\n",
     "output_type": "error",
     "traceback": [
      "\u001b[1;31m---------------------------------------------------------------------------\u001b[0m",
      "\u001b[1;31mElementClickInterceptedException\u001b[0m          Traceback (most recent call last)",
      "Input \u001b[1;32mIn [15]\u001b[0m, in \u001b[0;36m<cell line: 1>\u001b[1;34m()\u001b[0m\n\u001b[0;32m      1\u001b[0m \u001b[38;5;28;01mfor\u001b[39;00m card \u001b[38;5;129;01min\u001b[39;00m \u001b[38;5;28mrange\u001b[39m(\u001b[38;5;28mlen\u001b[39m(job_cards)):\n\u001b[1;32m----> 2\u001b[0m     \u001b[43mjob_cards\u001b[49m\u001b[43m[\u001b[49m\u001b[43mcard\u001b[49m\u001b[43m]\u001b[49m\u001b[38;5;241;43m.\u001b[39;49m\u001b[43mclick\u001b[49m\u001b[43m(\u001b[49m\u001b[43m)\u001b[49m\n\u001b[0;32m      3\u001b[0m     \u001b[38;5;28mprint\u001b[39m(card)\n",
      "File \u001b[1;32m~\\Documents\\Ultima\\Python_analise_de_dados\\Selenium\\seleniumenv\\lib\\site-packages\\selenium\\webdriver\\remote\\webelement.py:88\u001b[0m, in \u001b[0;36mWebElement.click\u001b[1;34m(self)\u001b[0m\n\u001b[0;32m     86\u001b[0m \u001b[38;5;28;01mdef\u001b[39;00m \u001b[38;5;21mclick\u001b[39m(\u001b[38;5;28mself\u001b[39m) \u001b[38;5;241m-\u001b[39m\u001b[38;5;241m>\u001b[39m \u001b[38;5;28;01mNone\u001b[39;00m:\n\u001b[0;32m     87\u001b[0m     \u001b[38;5;124;03m\"\"\"Clicks the element.\"\"\"\u001b[39;00m\n\u001b[1;32m---> 88\u001b[0m     \u001b[38;5;28;43mself\u001b[39;49m\u001b[38;5;241;43m.\u001b[39;49m\u001b[43m_execute\u001b[49m\u001b[43m(\u001b[49m\u001b[43mCommand\u001b[49m\u001b[38;5;241;43m.\u001b[39;49m\u001b[43mCLICK_ELEMENT\u001b[49m\u001b[43m)\u001b[49m\n",
      "File \u001b[1;32m~\\Documents\\Ultima\\Python_analise_de_dados\\Selenium\\seleniumenv\\lib\\site-packages\\selenium\\webdriver\\remote\\webelement.py:396\u001b[0m, in \u001b[0;36mWebElement._execute\u001b[1;34m(self, command, params)\u001b[0m\n\u001b[0;32m    394\u001b[0m     params \u001b[38;5;241m=\u001b[39m {}\n\u001b[0;32m    395\u001b[0m params[\u001b[38;5;124m'\u001b[39m\u001b[38;5;124mid\u001b[39m\u001b[38;5;124m'\u001b[39m] \u001b[38;5;241m=\u001b[39m \u001b[38;5;28mself\u001b[39m\u001b[38;5;241m.\u001b[39m_id\n\u001b[1;32m--> 396\u001b[0m \u001b[38;5;28;01mreturn\u001b[39;00m \u001b[38;5;28;43mself\u001b[39;49m\u001b[38;5;241;43m.\u001b[39;49m\u001b[43m_parent\u001b[49m\u001b[38;5;241;43m.\u001b[39;49m\u001b[43mexecute\u001b[49m\u001b[43m(\u001b[49m\u001b[43mcommand\u001b[49m\u001b[43m,\u001b[49m\u001b[43m \u001b[49m\u001b[43mparams\u001b[49m\u001b[43m)\u001b[49m\n",
      "File \u001b[1;32m~\\Documents\\Ultima\\Python_analise_de_dados\\Selenium\\seleniumenv\\lib\\site-packages\\selenium\\webdriver\\remote\\webdriver.py:435\u001b[0m, in \u001b[0;36mWebDriver.execute\u001b[1;34m(self, driver_command, params)\u001b[0m\n\u001b[0;32m    433\u001b[0m response \u001b[38;5;241m=\u001b[39m \u001b[38;5;28mself\u001b[39m\u001b[38;5;241m.\u001b[39mcommand_executor\u001b[38;5;241m.\u001b[39mexecute(driver_command, params)\n\u001b[0;32m    434\u001b[0m \u001b[38;5;28;01mif\u001b[39;00m response:\n\u001b[1;32m--> 435\u001b[0m     \u001b[38;5;28;43mself\u001b[39;49m\u001b[38;5;241;43m.\u001b[39;49m\u001b[43merror_handler\u001b[49m\u001b[38;5;241;43m.\u001b[39;49m\u001b[43mcheck_response\u001b[49m\u001b[43m(\u001b[49m\u001b[43mresponse\u001b[49m\u001b[43m)\u001b[49m\n\u001b[0;32m    436\u001b[0m     response[\u001b[38;5;124m'\u001b[39m\u001b[38;5;124mvalue\u001b[39m\u001b[38;5;124m'\u001b[39m] \u001b[38;5;241m=\u001b[39m \u001b[38;5;28mself\u001b[39m\u001b[38;5;241m.\u001b[39m_unwrap_value(\n\u001b[0;32m    437\u001b[0m         response\u001b[38;5;241m.\u001b[39mget(\u001b[38;5;124m'\u001b[39m\u001b[38;5;124mvalue\u001b[39m\u001b[38;5;124m'\u001b[39m, \u001b[38;5;28;01mNone\u001b[39;00m))\n\u001b[0;32m    438\u001b[0m     \u001b[38;5;28;01mreturn\u001b[39;00m response\n",
      "File \u001b[1;32m~\\Documents\\Ultima\\Python_analise_de_dados\\Selenium\\seleniumenv\\lib\\site-packages\\selenium\\webdriver\\remote\\errorhandler.py:247\u001b[0m, in \u001b[0;36mErrorHandler.check_response\u001b[1;34m(self, response)\u001b[0m\n\u001b[0;32m    245\u001b[0m         alert_text \u001b[38;5;241m=\u001b[39m value[\u001b[38;5;124m'\u001b[39m\u001b[38;5;124malert\u001b[39m\u001b[38;5;124m'\u001b[39m]\u001b[38;5;241m.\u001b[39mget(\u001b[38;5;124m'\u001b[39m\u001b[38;5;124mtext\u001b[39m\u001b[38;5;124m'\u001b[39m)\n\u001b[0;32m    246\u001b[0m     \u001b[38;5;28;01mraise\u001b[39;00m exception_class(message, screen, stacktrace, alert_text)  \u001b[38;5;66;03m# type: ignore[call-arg]  # mypy is not smart enough here\u001b[39;00m\n\u001b[1;32m--> 247\u001b[0m \u001b[38;5;28;01mraise\u001b[39;00m exception_class(message, screen, stacktrace)\n",
      "\u001b[1;31mElementClickInterceptedException\u001b[0m: Message: element click intercepted: Element <div class=\"base-card relative w-full hover:no-underline focus:no-underline base-card--link base-search-card base-search-card--link job-search-card\" data-entity-urn=\"urn:li:jobPosting:3104982550\" data-search-id=\"Zu+aIx0FNxZT4sB7H+XdzQ==\" data-tracking-id=\"7NUepcssGdE1BdsVk8d6ug==\" data-column=\"1\" data-row=\"3\" data-visible-time=\"1657039375071\" data-largest-intersection-ratio=\"0.04568101093173027\">...</div> is not clickable at point (319, 462). Other element would receive the click: <div id=\"toasts\" class=\"toasts fixed z-8 babybear:right-4 mamabear:right-4 papabear:min-h-[96px]\n        top:auto bottom-4 left-4 papabear:w-[400px]\n        toasts--bottom\" type=\"bottom\">...</div>\n  (Session info: chrome=103.0.5060.66)\nStacktrace:\nBacktrace:\n\tOrdinal0 [0x00B26463+2188387]\n\tOrdinal0 [0x00ABE461+1762401]\n\tOrdinal0 [0x009D3D78+802168]\n\tOrdinal0 [0x00A07F9B+1015707]\n\tOrdinal0 [0x00A05F68+1007464]\n\tOrdinal0 [0x00A03C6B+998507]\n\tOrdinal0 [0x00A029D9+993753]\n\tOrdinal0 [0x009F8613+951827]\n\tOrdinal0 [0x00A1C7DC+1099740]\n\tOrdinal0 [0x009F7FF4+950260]\n\tOrdinal0 [0x00A1C9F4+1100276]\n\tOrdinal0 [0x00A2CC22+1166370]\n\tOrdinal0 [0x00A1C5F6+1099254]\n\tOrdinal0 [0x009F6BE0+945120]\n\tOrdinal0 [0x009F7AD6+948950]\n\tGetHandleVerifier [0x00DC71F2+2712546]\n\tGetHandleVerifier [0x00DB886D+2652765]\n\tGetHandleVerifier [0x00BB002A+520730]\n\tGetHandleVerifier [0x00BAEE06+516086]\n\tOrdinal0 [0x00AC468B+1787531]\n\tOrdinal0 [0x00AC8E88+1805960]\n\tOrdinal0 [0x00AC8F75+1806197]\n\tOrdinal0 [0x00AD1DF1+1842673]\n\tBaseThreadInitThunk [0x7535FA29+25]\n\tRtlGetAppContainerNamedObjectPath [0x77127A9E+286]\n\tRtlGetAppContainerNamedObjectPath [0x77127A6E+238]\n"
     ]
    }
   ],
   "source": [
    "for card in range(len(job_cards)):\n",
    "    job_cards[card].click()\n",
    "    print(card)"
   ]
  },
  {
   "cell_type": "code",
   "execution_count": null,
   "id": "a6b80f8a-1d41-46bd-9ab2-5f5ae1693b1c",
   "metadata": {},
   "outputs": [],
   "source": [
    "jobs_texts = [job.text for job in job_cards]"
   ]
  },
  {
   "cell_type": "code",
   "execution_count": null,
   "id": "16961a61-956b-488b-8f92-22dbf132d217",
   "metadata": {},
   "outputs": [],
   "source": [
    "jobs_texts[4]"
   ]
  },
  {
   "cell_type": "code",
   "execution_count": 19,
   "id": "70680b4b-f500-4df0-8d71-5e3f893a1804",
   "metadata": {},
   "outputs": [],
   "source": [
    "job_cards[2].click()"
   ]
  },
  {
   "cell_type": "code",
   "execution_count": null,
   "id": "ad2a0540-bf8b-45de-95e3-061d170d36ec",
   "metadata": {},
   "outputs": [],
   "source": [
    "company2 = driver.find_element(By.CLASS_NAME, \"topcard__org-name-link.topcard__flavor--black-link\")"
   ]
  },
  {
   "cell_type": "code",
   "execution_count": null,
   "id": "5a024a77-0c43-4d62-9b23-c3e1c7b7c84e",
   "metadata": {},
   "outputs": [],
   "source": [
    "company2.text"
   ]
  },
  {
   "cell_type": "code",
   "execution_count": null,
   "id": "94d071c9-96d4-4a76-9c87-44402e706e52",
   "metadata": {},
   "outputs": [],
   "source": [
    "company1 = driver.find_element(By.CLASS_NAME, \"topcard__flavor\").text"
   ]
  },
  {
   "cell_type": "code",
   "execution_count": null,
   "id": "92ba14f6-b339-4739-9256-1f8f144766a0",
   "metadata": {},
   "outputs": [],
   "source": [
    "company1"
   ]
  },
  {
   "cell_type": "code",
   "execution_count": null,
   "id": "833a74db-068f-4f8d-8821-d771cce45c68",
   "metadata": {},
   "outputs": [],
   "source": [
    "job_cards[2].click()"
   ]
  },
  {
   "cell_type": "code",
   "execution_count": null,
   "id": "fedcbd02-b853-4a35-bb1b-09b6c2345140",
   "metadata": {},
   "outputs": [],
   "source": [
    "company2.text"
   ]
  },
  {
   "cell_type": "code",
   "execution_count": null,
   "id": "93dc1e7f-c703-4890-9e15-a43f87099066",
   "metadata": {},
   "outputs": [],
   "source": [
    "job_description = driver.find_element(By.CLASS_NAME, \"show-more-less-html__markup\")"
   ]
  },
  {
   "cell_type": "code",
   "execution_count": null,
   "id": "a7e9f143-11dc-48c5-a7b4-eb456777a800",
   "metadata": {},
   "outputs": [],
   "source": [
    "job_description.text"
   ]
  },
  {
   "cell_type": "code",
   "execution_count": null,
   "id": "d604ebf3-0ce1-4024-80b6-fb2627a87a38",
   "metadata": {},
   "outputs": [],
   "source": [
    "job_level = driver.find_element(By.CLASS_NAME, \"description__job-criteria-text.description__job-criteria-text--criteria\")"
   ]
  },
  {
   "cell_type": "code",
   "execution_count": null,
   "id": "8fabbd3f-a577-4f8f-815c-304729703464",
   "metadata": {},
   "outputs": [],
   "source": [
    "job_level.text"
   ]
  },
  {
   "cell_type": "code",
   "execution_count": 20,
   "id": "16cb9fca-30db-49de-83e4-3233b5ffb961",
   "metadata": {},
   "outputs": [],
   "source": [
    "# Colocando tudo em um local só\n",
    "table = pd.DataFrame(columns=[\"Company\",\"Job_Description\",\"Level\"]) # Criando o Dataframde"
   ]
  },
  {
   "cell_type": "code",
   "execution_count": 21,
   "id": "9914bb34-aa32-4e2e-ba40-88c8d67f2213",
   "metadata": {},
   "outputs": [
    {
     "name": "stderr",
     "output_type": "stream",
     "text": [
      "C:\\Users\\ffsantos\\AppData\\Local\\Temp\\ipykernel_23792\\584794005.py:15: FutureWarning: The frame.append method is deprecated and will be removed from pandas in a future version. Use pandas.concat instead.\n",
      "  table = table.append({\"Company\": company,\"Job_Description\":job_description,\n",
      "C:\\Users\\ffsantos\\AppData\\Local\\Temp\\ipykernel_23792\\584794005.py:15: FutureWarning: The frame.append method is deprecated and will be removed from pandas in a future version. Use pandas.concat instead.\n",
      "  table = table.append({\"Company\": company,\"Job_Description\":job_description,\n",
      "C:\\Users\\ffsantos\\AppData\\Local\\Temp\\ipykernel_23792\\584794005.py:15: FutureWarning: The frame.append method is deprecated and will be removed from pandas in a future version. Use pandas.concat instead.\n",
      "  table = table.append({\"Company\": company,\"Job_Description\":job_description,\n"
     ]
    },
    {
     "ename": "ElementClickInterceptedException",
     "evalue": "Message: element click intercepted: Element <div class=\"base-card relative w-full hover:no-underline focus:no-underline base-card--link base-search-card base-search-card--link job-search-card\" data-entity-urn=\"urn:li:jobPosting:3138335679\" data-search-id=\"Zu+aIx0FNxZT4sB7H+XdzQ==\" data-tracking-id=\"UDbQqkD9aC4cTlS4p6HeZw==\" data-column=\"1\" data-row=\"4\" data-visible-time=\"1657039501840\" data-largest-intersection-ratio=\"0.03539307788014412\">...</div> is not clickable at point (319, 503). Other element would receive the click: <div id=\"toasts\" class=\"toasts fixed z-8 babybear:right-4 mamabear:right-4 papabear:min-h-[96px]\n        top:auto bottom-4 left-4 papabear:w-[400px]\n        toasts--bottom\" type=\"bottom\">...</div>\n  (Session info: chrome=103.0.5060.66)\nStacktrace:\nBacktrace:\n\tOrdinal0 [0x00B26463+2188387]\n\tOrdinal0 [0x00ABE461+1762401]\n\tOrdinal0 [0x009D3D78+802168]\n\tOrdinal0 [0x00A07F9B+1015707]\n\tOrdinal0 [0x00A05F68+1007464]\n\tOrdinal0 [0x00A03C6B+998507]\n\tOrdinal0 [0x00A029D9+993753]\n\tOrdinal0 [0x009F8613+951827]\n\tOrdinal0 [0x00A1C7DC+1099740]\n\tOrdinal0 [0x009F7FF4+950260]\n\tOrdinal0 [0x00A1C9F4+1100276]\n\tOrdinal0 [0x00A2CC22+1166370]\n\tOrdinal0 [0x00A1C5F6+1099254]\n\tOrdinal0 [0x009F6BE0+945120]\n\tOrdinal0 [0x009F7AD6+948950]\n\tGetHandleVerifier [0x00DC71F2+2712546]\n\tGetHandleVerifier [0x00DB886D+2652765]\n\tGetHandleVerifier [0x00BB002A+520730]\n\tGetHandleVerifier [0x00BAEE06+516086]\n\tOrdinal0 [0x00AC468B+1787531]\n\tOrdinal0 [0x00AC8E88+1805960]\n\tOrdinal0 [0x00AC8F75+1806197]\n\tOrdinal0 [0x00AD1DF1+1842673]\n\tBaseThreadInitThunk [0x7535FA29+25]\n\tRtlGetAppContainerNamedObjectPath [0x77127A9E+286]\n\tRtlGetAppContainerNamedObjectPath [0x77127A6E+238]\n",
     "output_type": "error",
     "traceback": [
      "\u001b[1;31m---------------------------------------------------------------------------\u001b[0m",
      "\u001b[1;31mElementClickInterceptedException\u001b[0m          Traceback (most recent call last)",
      "Input \u001b[1;32mIn [21]\u001b[0m, in \u001b[0;36m<cell line: 1>\u001b[1;34m()\u001b[0m\n\u001b[0;32m      1\u001b[0m \u001b[38;5;28;01mfor\u001b[39;00m job \u001b[38;5;129;01min\u001b[39;00m \u001b[38;5;28mrange\u001b[39m(\u001b[38;5;28mlen\u001b[39m(job_cards)):\n\u001b[1;32m----> 2\u001b[0m     \u001b[43mjob_cards\u001b[49m\u001b[43m[\u001b[49m\u001b[43mjob\u001b[49m\u001b[43m]\u001b[49m\u001b[38;5;241;43m.\u001b[39;49m\u001b[43mclick\u001b[49m\u001b[43m(\u001b[49m\u001b[43m)\u001b[49m\n\u001b[0;32m      3\u001b[0m     sleep(\u001b[38;5;241m2\u001b[39m)\n\u001b[0;32m      4\u001b[0m     job_description \u001b[38;5;241m=\u001b[39m driver\u001b[38;5;241m.\u001b[39mfind_element(By\u001b[38;5;241m.\u001b[39mCLASS_NAME, \u001b[38;5;124m\"\u001b[39m\u001b[38;5;124mshow-more-less-html__markup\u001b[39m\u001b[38;5;124m\"\u001b[39m)\u001b[38;5;241m.\u001b[39mtext\n",
      "File \u001b[1;32m~\\Documents\\Ultima\\Python_analise_de_dados\\Selenium\\seleniumenv\\lib\\site-packages\\selenium\\webdriver\\remote\\webelement.py:88\u001b[0m, in \u001b[0;36mWebElement.click\u001b[1;34m(self)\u001b[0m\n\u001b[0;32m     86\u001b[0m \u001b[38;5;28;01mdef\u001b[39;00m \u001b[38;5;21mclick\u001b[39m(\u001b[38;5;28mself\u001b[39m) \u001b[38;5;241m-\u001b[39m\u001b[38;5;241m>\u001b[39m \u001b[38;5;28;01mNone\u001b[39;00m:\n\u001b[0;32m     87\u001b[0m     \u001b[38;5;124;03m\"\"\"Clicks the element.\"\"\"\u001b[39;00m\n\u001b[1;32m---> 88\u001b[0m     \u001b[38;5;28;43mself\u001b[39;49m\u001b[38;5;241;43m.\u001b[39;49m\u001b[43m_execute\u001b[49m\u001b[43m(\u001b[49m\u001b[43mCommand\u001b[49m\u001b[38;5;241;43m.\u001b[39;49m\u001b[43mCLICK_ELEMENT\u001b[49m\u001b[43m)\u001b[49m\n",
      "File \u001b[1;32m~\\Documents\\Ultima\\Python_analise_de_dados\\Selenium\\seleniumenv\\lib\\site-packages\\selenium\\webdriver\\remote\\webelement.py:396\u001b[0m, in \u001b[0;36mWebElement._execute\u001b[1;34m(self, command, params)\u001b[0m\n\u001b[0;32m    394\u001b[0m     params \u001b[38;5;241m=\u001b[39m {}\n\u001b[0;32m    395\u001b[0m params[\u001b[38;5;124m'\u001b[39m\u001b[38;5;124mid\u001b[39m\u001b[38;5;124m'\u001b[39m] \u001b[38;5;241m=\u001b[39m \u001b[38;5;28mself\u001b[39m\u001b[38;5;241m.\u001b[39m_id\n\u001b[1;32m--> 396\u001b[0m \u001b[38;5;28;01mreturn\u001b[39;00m \u001b[38;5;28;43mself\u001b[39;49m\u001b[38;5;241;43m.\u001b[39;49m\u001b[43m_parent\u001b[49m\u001b[38;5;241;43m.\u001b[39;49m\u001b[43mexecute\u001b[49m\u001b[43m(\u001b[49m\u001b[43mcommand\u001b[49m\u001b[43m,\u001b[49m\u001b[43m \u001b[49m\u001b[43mparams\u001b[49m\u001b[43m)\u001b[49m\n",
      "File \u001b[1;32m~\\Documents\\Ultima\\Python_analise_de_dados\\Selenium\\seleniumenv\\lib\\site-packages\\selenium\\webdriver\\remote\\webdriver.py:435\u001b[0m, in \u001b[0;36mWebDriver.execute\u001b[1;34m(self, driver_command, params)\u001b[0m\n\u001b[0;32m    433\u001b[0m response \u001b[38;5;241m=\u001b[39m \u001b[38;5;28mself\u001b[39m\u001b[38;5;241m.\u001b[39mcommand_executor\u001b[38;5;241m.\u001b[39mexecute(driver_command, params)\n\u001b[0;32m    434\u001b[0m \u001b[38;5;28;01mif\u001b[39;00m response:\n\u001b[1;32m--> 435\u001b[0m     \u001b[38;5;28;43mself\u001b[39;49m\u001b[38;5;241;43m.\u001b[39;49m\u001b[43merror_handler\u001b[49m\u001b[38;5;241;43m.\u001b[39;49m\u001b[43mcheck_response\u001b[49m\u001b[43m(\u001b[49m\u001b[43mresponse\u001b[49m\u001b[43m)\u001b[49m\n\u001b[0;32m    436\u001b[0m     response[\u001b[38;5;124m'\u001b[39m\u001b[38;5;124mvalue\u001b[39m\u001b[38;5;124m'\u001b[39m] \u001b[38;5;241m=\u001b[39m \u001b[38;5;28mself\u001b[39m\u001b[38;5;241m.\u001b[39m_unwrap_value(\n\u001b[0;32m    437\u001b[0m         response\u001b[38;5;241m.\u001b[39mget(\u001b[38;5;124m'\u001b[39m\u001b[38;5;124mvalue\u001b[39m\u001b[38;5;124m'\u001b[39m, \u001b[38;5;28;01mNone\u001b[39;00m))\n\u001b[0;32m    438\u001b[0m     \u001b[38;5;28;01mreturn\u001b[39;00m response\n",
      "File \u001b[1;32m~\\Documents\\Ultima\\Python_analise_de_dados\\Selenium\\seleniumenv\\lib\\site-packages\\selenium\\webdriver\\remote\\errorhandler.py:247\u001b[0m, in \u001b[0;36mErrorHandler.check_response\u001b[1;34m(self, response)\u001b[0m\n\u001b[0;32m    245\u001b[0m         alert_text \u001b[38;5;241m=\u001b[39m value[\u001b[38;5;124m'\u001b[39m\u001b[38;5;124malert\u001b[39m\u001b[38;5;124m'\u001b[39m]\u001b[38;5;241m.\u001b[39mget(\u001b[38;5;124m'\u001b[39m\u001b[38;5;124mtext\u001b[39m\u001b[38;5;124m'\u001b[39m)\n\u001b[0;32m    246\u001b[0m     \u001b[38;5;28;01mraise\u001b[39;00m exception_class(message, screen, stacktrace, alert_text)  \u001b[38;5;66;03m# type: ignore[call-arg]  # mypy is not smart enough here\u001b[39;00m\n\u001b[1;32m--> 247\u001b[0m \u001b[38;5;28;01mraise\u001b[39;00m exception_class(message, screen, stacktrace)\n",
      "\u001b[1;31mElementClickInterceptedException\u001b[0m: Message: element click intercepted: Element <div class=\"base-card relative w-full hover:no-underline focus:no-underline base-card--link base-search-card base-search-card--link job-search-card\" data-entity-urn=\"urn:li:jobPosting:3138335679\" data-search-id=\"Zu+aIx0FNxZT4sB7H+XdzQ==\" data-tracking-id=\"UDbQqkD9aC4cTlS4p6HeZw==\" data-column=\"1\" data-row=\"4\" data-visible-time=\"1657039501840\" data-largest-intersection-ratio=\"0.03539307788014412\">...</div> is not clickable at point (319, 503). Other element would receive the click: <div id=\"toasts\" class=\"toasts fixed z-8 babybear:right-4 mamabear:right-4 papabear:min-h-[96px]\n        top:auto bottom-4 left-4 papabear:w-[400px]\n        toasts--bottom\" type=\"bottom\">...</div>\n  (Session info: chrome=103.0.5060.66)\nStacktrace:\nBacktrace:\n\tOrdinal0 [0x00B26463+2188387]\n\tOrdinal0 [0x00ABE461+1762401]\n\tOrdinal0 [0x009D3D78+802168]\n\tOrdinal0 [0x00A07F9B+1015707]\n\tOrdinal0 [0x00A05F68+1007464]\n\tOrdinal0 [0x00A03C6B+998507]\n\tOrdinal0 [0x00A029D9+993753]\n\tOrdinal0 [0x009F8613+951827]\n\tOrdinal0 [0x00A1C7DC+1099740]\n\tOrdinal0 [0x009F7FF4+950260]\n\tOrdinal0 [0x00A1C9F4+1100276]\n\tOrdinal0 [0x00A2CC22+1166370]\n\tOrdinal0 [0x00A1C5F6+1099254]\n\tOrdinal0 [0x009F6BE0+945120]\n\tOrdinal0 [0x009F7AD6+948950]\n\tGetHandleVerifier [0x00DC71F2+2712546]\n\tGetHandleVerifier [0x00DB886D+2652765]\n\tGetHandleVerifier [0x00BB002A+520730]\n\tGetHandleVerifier [0x00BAEE06+516086]\n\tOrdinal0 [0x00AC468B+1787531]\n\tOrdinal0 [0x00AC8E88+1805960]\n\tOrdinal0 [0x00AC8F75+1806197]\n\tOrdinal0 [0x00AD1DF1+1842673]\n\tBaseThreadInitThunk [0x7535FA29+25]\n\tRtlGetAppContainerNamedObjectPath [0x77127A9E+286]\n\tRtlGetAppContainerNamedObjectPath [0x77127A6E+238]\n"
     ]
    }
   ],
   "source": [
    "for job in range(len(job_cards)):\n",
    "    job_cards[job].click()\n",
    "    sleep(2)\n",
    "    job_description = driver.find_element(By.CLASS_NAME, \"show-more-less-html__markup\").text\n",
    "    sleep(1)\n",
    "    job_level = driver.find_element(By.CLASS_NAME, \n",
    "                                    \"description__job-criteria-text.description__job-criteria-text--criteria\").text\n",
    "    sleep(2)\n",
    "    try:\n",
    "        company = driver.find_element(By.CLASS_NAME, \"topcard__org-name-link.topcard__flavor--black-link\").text\n",
    "    except:\n",
    "        company = driver.find_element(By.CLASS_NAME, \"topcard__flavor\").text\n",
    "    \n",
    "    lista = [company,job_description,job_level]\n",
    "    table = table.append({\"Company\": company,\"Job_Description\":job_description,\n",
    "                    \"Level\":job_level}, ignore_index=True)"
   ]
  },
  {
   "cell_type": "code",
   "execution_count": 22,
   "id": "c69251b4-27ec-4b75-b6e0-a7cc4f26869e",
   "metadata": {},
   "outputs": [
    {
     "data": {
      "text/html": [
       "<div>\n",
       "<style scoped>\n",
       "    .dataframe tbody tr th:only-of-type {\n",
       "        vertical-align: middle;\n",
       "    }\n",
       "\n",
       "    .dataframe tbody tr th {\n",
       "        vertical-align: top;\n",
       "    }\n",
       "\n",
       "    .dataframe thead th {\n",
       "        text-align: right;\n",
       "    }\n",
       "</style>\n",
       "<table border=\"1\" class=\"dataframe\">\n",
       "  <thead>\n",
       "    <tr style=\"text-align: right;\">\n",
       "      <th></th>\n",
       "      <th>Company</th>\n",
       "      <th>Job_Description</th>\n",
       "      <th>Level</th>\n",
       "    </tr>\n",
       "  </thead>\n",
       "  <tbody>\n",
       "    <tr>\n",
       "      <th>0</th>\n",
       "      <td>IBM</td>\n",
       "      <td>579719BR\\n\\nIntrodução\\n\\nNa IBM, o trabalho é...</td>\n",
       "      <td>Not Applicable</td>\n",
       "    </tr>\n",
       "    <tr>\n",
       "      <th>1</th>\n",
       "      <td>TECNET IT SERVICES</td>\n",
       "      <td>Área De Atuação\\n\\nInformática / TI / Tecnolog...</td>\n",
       "      <td>Entry level</td>\n",
       "    </tr>\n",
       "    <tr>\n",
       "      <th>2</th>\n",
       "      <td>innolevels</td>\n",
       "      <td>Nivel de atuacao: Especialistas | Area de atua...</td>\n",
       "      <td>Entry level</td>\n",
       "    </tr>\n",
       "  </tbody>\n",
       "</table>\n",
       "</div>"
      ],
      "text/plain": [
       "              Company                                    Job_Description  \\\n",
       "0                 IBM  579719BR\\n\\nIntrodução\\n\\nNa IBM, o trabalho é...   \n",
       "1  TECNET IT SERVICES  Área De Atuação\\n\\nInformática / TI / Tecnolog...   \n",
       "2          innolevels  Nivel de atuacao: Especialistas | Area de atua...   \n",
       "\n",
       "            Level  \n",
       "0  Not Applicable  \n",
       "1     Entry level  \n",
       "2     Entry level  "
      ]
     },
     "execution_count": 22,
     "metadata": {},
     "output_type": "execute_result"
    }
   ],
   "source": [
    "table"
   ]
  },
  {
   "cell_type": "code",
   "execution_count": 24,
   "id": "2a82e65e-7cb8-4933-8245-2753796323e3",
   "metadata": {},
   "outputs": [],
   "source": [
    "driver.close()"
   ]
  },
  {
   "cell_type": "code",
   "execution_count": null,
   "id": "e80adae3-b44e-40a6-b398-debda5d45d5b",
   "metadata": {},
   "outputs": [],
   "source": [
    "table.to_csv(\"jobs_RJ.csv\", index=False)"
   ]
  },
  {
   "cell_type": "code",
   "execution_count": null,
   "id": "a0d60d12-4b32-4831-95f8-d7e8b255a5e1",
   "metadata": {},
   "outputs": [],
   "source": []
  },
  {
   "cell_type": "code",
   "execution_count": null,
   "id": "13020589-cdf7-4c26-8ec0-cb097a3763b9",
   "metadata": {},
   "outputs": [],
   "source": []
  },
  {
   "cell_type": "code",
   "execution_count": null,
   "id": "baedce71-f82d-4637-bc86-c370406e6635",
   "metadata": {},
   "outputs": [],
   "source": []
  },
  {
   "cell_type": "code",
   "execution_count": null,
   "id": "d0c3e7ce-1240-4096-bc00-7199094bfad0",
   "metadata": {},
   "outputs": [],
   "source": []
  },
  {
   "cell_type": "code",
   "execution_count": null,
   "id": "9147e12f-e376-4b82-81b8-557ddeaa1e68",
   "metadata": {},
   "outputs": [],
   "source": []
  },
  {
   "cell_type": "code",
   "execution_count": null,
   "id": "34998c42-f105-4505-808e-49cb8e21073e",
   "metadata": {},
   "outputs": [],
   "source": []
  }
 ],
 "metadata": {
  "kernelspec": {
   "display_name": "Python 3 (ipykernel)",
   "language": "python",
   "name": "python3"
  },
  "language_info": {
   "codemirror_mode": {
    "name": "ipython",
    "version": 3
   },
   "file_extension": ".py",
   "mimetype": "text/x-python",
   "name": "python",
   "nbconvert_exporter": "python",
   "pygments_lexer": "ipython3",
   "version": "3.9.7"
  }
 },
 "nbformat": 4,
 "nbformat_minor": 5
}
